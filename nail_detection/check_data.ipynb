{
 "cells": [
  {
   "cell_type": "code",
   "execution_count": 1,
   "id": "d4a485fd",
   "metadata": {},
   "outputs": [],
   "source": [
    "import os\n",
    "import tensorflow as tf\n",
    "import numpy as np\n",
    "from tensorflow import keras\n",
    "from tensorflow.keras import layers\n",
    "from datetime import datetime\n",
    "import matplotlib.pyplot as plt\n",
    "from sys import getsizeof\n",
    "import cv2"
   ]
  },
  {
   "cell_type": "code",
   "execution_count": 2,
   "id": "bd3b4f9b",
   "metadata": {},
   "outputs": [
    {
     "name": "stdout",
     "output_type": "stream",
     "text": [
      "0\n",
      "158.122433332762 135.86361008407835 118.4334553918209\n",
      "58.57134455799642 58.4258764351661 59.034157439521465\n"
     ]
    }
   ],
   "source": [
    "IMAGE_DIR = \"../data/image/\"\n",
    "# training_data_file = open(\"../data/train.txt\", \"r\")\n",
    "training_data_file = open(\"../data/train.txt\", \"r\")\n",
    "R_mean = 0\n",
    "G_mean = 0\n",
    "B_mean = 0\n",
    "R_std = 0\n",
    "G_std = 0\n",
    "B_std = 0\n",
    "count = 0\n",
    "mean_rgb = [114.40881884832626, 108.43621239448395, 100.02786994986522]\n",
    "std_rgb=[61.16924025123464, 59.74685629314272, 60.37084580490068]\n",
    "mean_rgb = np.array(mean_rgb, dtype=np.float32)\n",
    "mean_rgb = np.array(std_rgb, dtype=np.float32)\n",
    "for i, line in enumerate(training_data_file):\n",
    "    if i%500==0:\n",
    "        print(i)\n",
    "    image_name = line.strip().split(\" \")[0]\n",
    "#     print(image_name)\n",
    "    path = IMAGE_DIR+image_name\n",
    "    img = cv2.imread(path)\n",
    "    img = cv2.cvtColor(img, cv2.COLOR_BGR2RGB)\n",
    "#     img = (img-mean_rgb)/std_rgb\n",
    "#     plt.imshow(img)\n",
    "#     plt.show()\n",
    "    R_mean+=np.mean(img[:,:,0])\n",
    "    G_mean+=np.mean(img[:,:,1])\n",
    "    B_mean+=np.mean(img[:,:,2])\n",
    "    R_std+=np.std(img[:,:,0])\n",
    "    G_std+=np.std(img[:,:,1])\n",
    "    B_std+=np.std(img[:,:,2])\n",
    "    \n",
    "    count+=1\n",
    "#     break\n",
    "print(R_mean/count, G_mean/count, B_mean/count)\n",
    "# print(G_mean/count)\n",
    "# print(B_mean/count)\n",
    "print(R_std/count, G_std/count, B_std/count)\n",
    "# print(G_std/count)\n",
    "# print(B_std/count)\n",
    "\n"
   ]
  },
  {
   "cell_type": "code",
   "execution_count": 1,
   "id": "9d57f9a1",
   "metadata": {},
   "outputs": [
    {
     "name": "stdout",
     "output_type": "stream",
     "text": [
      "Sun Dec  4 18:28:30 2022       \n",
      "+-----------------------------------------------------------------------------+\n",
      "| NVIDIA-SMI 522.25       Driver Version: 522.25       CUDA Version: 11.8     |\n",
      "|-------------------------------+----------------------+----------------------+\n",
      "| GPU  Name            TCC/WDDM | Bus-Id        Disp.A | Volatile Uncorr. ECC |\n",
      "| Fan  Temp  Perf  Pwr:Usage/Cap|         Memory-Usage | GPU-Util  Compute M. |\n",
      "|                               |                      |               MIG M. |\n",
      "|===============================+======================+======================|\n",
      "|   0  NVIDIA GeForce ... WDDM  | 00000000:01:00.0  On |                  N/A |\n",
      "| 45%   58C    P3   104W / 350W |  10304MiB / 24576MiB |     33%      Default |\n",
      "|                               |                      |                  N/A |\n",
      "+-------------------------------+----------------------+----------------------+\n",
      "                                                                               \n",
      "+-----------------------------------------------------------------------------+\n",
      "| Processes:                                                                  |\n",
      "|  GPU   GI   CI        PID   Type   Process name                  GPU Memory |\n",
      "|        ID   ID                                                   Usage      |\n",
      "|=============================================================================|\n",
      "|    0   N/A  N/A      2108    C+G   ...e\\PhoneExperienceHost.exe    N/A      |\n",
      "|    0   N/A  N/A      2428    C+G   ...ge\\Application\\msedge.exe    N/A      |\n",
      "|    0   N/A  N/A      3740    C+G   ...y\\ShellExperienceHost.exe    N/A      |\n",
      "|    0   N/A  N/A      5236    C+G   ...5n1h2txyewy\\SearchApp.exe    N/A      |\n",
      "|    0   N/A  N/A      6976    C+G   C:\\Windows\\explorer.exe         N/A      |\n",
      "|    0   N/A  N/A      7068      C   ...ILAB\\anaconda3\\python.exe    N/A      |\n",
      "|    0   N/A  N/A      7516    C+G   ...2txyewy\\TextInputHost.exe    N/A      |\n",
      "|    0   N/A  N/A     11236    C+G   ...cw5n1h2txyewy\\LockApp.exe    N/A      |\n",
      "|    0   N/A  N/A     14752      C   ...a3\\envs\\tf_gpu\\python.exe    N/A      |\n",
      "|    0   N/A  N/A     14876      C   ...a3\\envs\\tf_gpu\\python.exe    N/A      |\n",
      "|    0   N/A  N/A     15832    C+G   ...bbwe\\Microsoft.Photos.exe    N/A      |\n",
      "+-----------------------------------------------------------------------------+\n"
     ]
    }
   ],
   "source": [
    "!nvidia-smi"
   ]
  },
  {
   "cell_type": "code",
   "execution_count": null,
   "id": "3272e6d4",
   "metadata": {},
   "outputs": [],
   "source": []
  }
 ],
 "metadata": {
  "kernelspec": {
   "display_name": "Python 3 (ipykernel)",
   "language": "python",
   "name": "python3"
  },
  "language_info": {
   "codemirror_mode": {
    "name": "ipython",
    "version": 3
   },
   "file_extension": ".py",
   "mimetype": "text/x-python",
   "name": "python",
   "nbconvert_exporter": "python",
   "pygments_lexer": "ipython3",
   "version": "3.9.7"
  }
 },
 "nbformat": 4,
 "nbformat_minor": 5
}
